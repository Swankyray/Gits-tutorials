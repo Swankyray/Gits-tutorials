{
  "nbformat": 4,
  "nbformat_minor": 0,
  "metadata": {
    "colab": {
      "provenance": [],
      "authorship_tag": "ABX9TyNrn5tTyHnUC/92kFkENqKz",
      "include_colab_link": true
    },
    "kernelspec": {
      "name": "python3",
      "display_name": "Python 3"
    },
    "language_info": {
      "name": "python"
    }
  },
  "cells": [
    {
      "cell_type": "markdown",
      "metadata": {
        "id": "view-in-github",
        "colab_type": "text"
      },
      "source": [
        "<a href=\"https://colab.research.google.com/github/Swankyray/Gits-tutorials/blob/master/MyFirstPythonProgram.ipynb\" target=\"_parent\"><img src=\"https://colab.research.google.com/assets/colab-badge.svg\" alt=\"Open In Colab\"/></a>"
      ]
    },
    {
      "cell_type": "code",
      "execution_count": 2,
      "metadata": {
        "colab": {
          "base_uri": "https://localhost:8080/"
        },
        "id": "MiiBBBNLmbzU",
        "outputId": "a088129d-a865-466a-930c-c83e7ce76e24"
      },
      "outputs": [
        {
          "output_type": "stream",
          "name": "stdout",
          "text": [
            "hello Python\n",
            "this is sourav here\n"
          ]
        }
      ],
      "source": [
        "print(\"hello Python\")\n",
        "print(\"this is sourav here\")"
      ]
    },
    {
      "cell_type": "code",
      "source": [
        "username = input(\"Enter a name \")\n",
        "password = input(\"Enter the password \")\n",
        "print(\"Welcome to python \" + username)\n",
        "print(\"your password is \" + password)"
      ],
      "metadata": {
        "colab": {
          "base_uri": "https://localhost:8080/"
        },
        "id": "rhgCjApJn6xl",
        "outputId": "b93eed21-ee1f-42c4-c894-1e19d200a64d"
      },
      "execution_count": 13,
      "outputs": [
        {
          "output_type": "stream",
          "name": "stdout",
          "text": [
            "Enter a name Sourav\n",
            "Enter the password Swankyray@11\n",
            "Welcome to python Sourav\n",
            "your password is Swankyray@11\n"
          ]
        }
      ]
    },
    {
      "cell_type": "code",
      "source": [
        "a = 10\n",
        "print(type(a))\n",
        "b= 10.5\n",
        "print(type(b))\n",
        "c = True\n",
        "print(type(c))"
      ],
      "metadata": {
        "colab": {
          "base_uri": "https://localhost:8080/"
        },
        "id": "qC3m1kfTsgQc",
        "outputId": "b0e0d6e1-1f44-4423-f7dd-35cb57a84d7d"
      },
      "execution_count": 16,
      "outputs": [
        {
          "output_type": "stream",
          "name": "stdout",
          "text": [
            "<class 'int'>\n",
            "<class 'float'>\n",
            "<class 'bool'>\n"
          ]
        }
      ]
    },
    {
      "cell_type": "code",
      "source": [
        "age = int(input(\"Enter the age \"))\n",
        "print(age)\n",
        "print(type(age))"
      ],
      "metadata": {
        "colab": {
          "base_uri": "https://localhost:8080/"
        },
        "id": "KIovYBlKtRxf",
        "outputId": "e4b100be-0c0a-403f-dfee-dcafcd82c67d"
      },
      "execution_count": 3,
      "outputs": [
        {
          "output_type": "stream",
          "name": "stdout",
          "text": [
            "Enter the age 21\n",
            "21\n",
            "<class 'int'>\n"
          ]
        }
      ]
    },
    {
      "cell_type": "code",
      "source": [
        "age = input(\"Enter the age \")\n",
        "new_age = int(age) + 10\n",
        "print(new_age )"
      ],
      "metadata": {
        "colab": {
          "base_uri": "https://localhost:8080/"
        },
        "id": "ziJZKomeVaWY",
        "outputId": "c42a5ba7-34e3-41ab-c781-5630a42094c8"
      },
      "execution_count": 7,
      "outputs": [
        {
          "output_type": "stream",
          "name": "stdout",
          "text": [
            "Enter the age 20\n",
            "30\n"
          ]
        }
      ]
    },
    {
      "cell_type": "code",
      "source": [
        "a = int(input(\"enter the number \"))\n",
        "b = int(input(\"enter the number \"))\n",
        "resultProduct = a * b\n",
        "resultSum = a + b\n",
        "print(\"The product is \" + str(resultProduct))\n",
        "# print(resultSum)"
      ],
      "metadata": {
        "colab": {
          "base_uri": "https://localhost:8080/"
        },
        "id": "OxPCR254WGuJ",
        "outputId": "2589cfb0-72f5-4038-f5eb-c2fb6db74d21"
      },
      "execution_count": 18,
      "outputs": [
        {
          "output_type": "stream",
          "name": "stdout",
          "text": [
            "enter the number 6\n",
            "enter the number 5\n",
            "The product is 30\n"
          ]
        }
      ]
    },
    {
      "cell_type": "code",
      "source": [
        "age = [10,20,30,40,50]\n",
        "print(age[0])\n",
        "print(age[1])\n",
        "print(age[4])\n",
        "carName = [\"merc\", \"lambo\", \"range\", \"ferrari\"]\n",
        "print(carName[3])\n",
        "print(carName[1])\n",
        "print(carName[2])"
      ],
      "metadata": {
        "colab": {
          "base_uri": "https://localhost:8080/"
        },
        "id": "qZtSPHqiaWae",
        "outputId": "90f192bf-263a-4dc6-e526-0a7b7816f0af"
      },
      "execution_count": 25,
      "outputs": [
        {
          "output_type": "stream",
          "name": "stdout",
          "text": [
            "10\n",
            "20\n",
            "50\n",
            "ferrari\n",
            "lambo\n",
            "range\n"
          ]
        }
      ]
    },
    {
      "cell_type": "code",
      "source": [],
      "metadata": {
        "id": "IUPrJmsUkh8Y"
      },
      "execution_count": null,
      "outputs": []
    },
    {
      "cell_type": "code",
      "source": [],
      "metadata": {
        "id": "A-vK-0sENG0V"
      },
      "execution_count": null,
      "outputs": []
    }
  ]
}