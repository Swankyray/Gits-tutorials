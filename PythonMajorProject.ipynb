{
  "nbformat": 4,
  "nbformat_minor": 0,
  "metadata": {
    "colab": {
      "provenance": [],
      "authorship_tag": "ABX9TyPx9WoBh02crT63Doqo5ia+",
      "include_colab_link": true
    },
    "kernelspec": {
      "name": "python3",
      "display_name": "Python 3"
    },
    "language_info": {
      "name": "python"
    }
  },
  "cells": [
    {
      "cell_type": "markdown",
      "metadata": {
        "id": "view-in-github",
        "colab_type": "text"
      },
      "source": [
        "<a href=\"https://colab.research.google.com/github/Swankyray/Gits-tutorials/blob/master/PythonMajorProject.ipynb\" target=\"_parent\"><img src=\"https://colab.research.google.com/assets/colab-badge.svg\" alt=\"Open In Colab\"/></a>"
      ]
    },
    {
      "cell_type": "code",
      "execution_count": 34,
      "metadata": {
        "colab": {
          "base_uri": "https://localhost:8080/"
        },
        "id": "CXl37RCtQQV0",
        "outputId": "0603a99c-3ed5-4415-8d2e-e532ece2c81d"
      },
      "outputs": [
        {
          "output_type": "stream",
          "name": "stdout",
          "text": [
            "Common names: ['Mahesh', 'Ali', 'Jacob']\n"
          ]
        }
      ],
      "source": [
        "# Q1: You are working in a bank, and you have been given two lists of the employees who worked in 2021.\n",
        "# Employees’ names in list 1 are Ramesh, Suresh, Mahesh, Ali, Jacob, and Saritha.\n",
        "# List 2 contains the names of Ali, Mukesh, Mahesh, Jacob, Sai, and Sarita.\n",
        "# Please write a program that helps to identify people who are common in both lists. Please do not use any in-built function.\n",
        "\n",
        "\n",
        "# Program:-\n",
        "list1 = [\"Ramesh\", \"Suresh\", \"Mahesh\", \"Ali\", \"Jacob\", \"Saritha\"]\n",
        "list2 = [\"Ali\", \"Mukesh\", \"Mahesh\", \"Jacob\", \"Sai\", \"Sarita\"]\n",
        "common_names = []\n",
        "# Iterate through each name in List 1\n",
        "for name1 in list1:\n",
        "    # Check if the name is also present in List 2\n",
        "    for name2 in list2:\n",
        "        if name1 == name2:\n",
        "            # If a common name is found, add it to the common_names list\n",
        "            common_names.append(name1)\n",
        "            break  # Move to the next name in List 1\n",
        "\n",
        "# Print the common names\n",
        "print(\"Common names:\", common_names)"
      ]
    },
    {
      "cell_type": "code",
      "source": [
        "# Q2: While entering data, someone entered a few names as a common string “Ramesh Suresh Mohit”.\n",
        "# Please write a program which separates all the names and converts them into a list.\n",
        "# Once converted into a list, please write a program that adds their age.\n",
        "# Ramesh: 25\n",
        "# Suresh: 22\n",
        "# Mohit:  26\n",
        "\n",
        "\n",
        "# Program:-\n",
        "names_string = \"Ramesh Suresh Mohit\"\n",
        "\n",
        "# Split the string into a list of names\n",
        "names_list = names_string.split()\n",
        "\n",
        "# Dictionary to store ages associated with names\n",
        "ages = {\n",
        "    \"Ramesh\": 25,\n",
        "    \"Suresh\": 22,\n",
        "    \"Mohit\": 26\n",
        "}\n",
        "# Initialize a variable to store the total age\n",
        "total_age = 0\n",
        "\n",
        "# Iterate through the names and add their ages to the total\n",
        "for name in names_list:\n",
        "    if name in ages:\n",
        "        total_age += ages[name]\n",
        "\n",
        "# Print the total age\n",
        "print(\"Total Age:\", total_age)"
      ],
      "metadata": {
        "colab": {
          "base_uri": "https://localhost:8080/"
        },
        "id": "2p6pA95qRq4D",
        "outputId": "f42556ef-c3ce-4e69-a176-d64b569574ee"
      },
      "execution_count": 29,
      "outputs": [
        {
          "output_type": "stream",
          "name": "stdout",
          "text": [
            "Total Age: 73\n"
          ]
        }
      ]
    },
    {
      "cell_type": "code",
      "source": [
        "# Q3: You are working in a medical store.\n",
        "# A patient came to your medical store and asked to buy 2 strips of paracetamol, 3 strips of azithromycin, and 5 strips of Vitamin C.\n",
        "# One strip of paracetamol costs Rs 35, one strip of azithromycin costs Rs 49, and one strip of vitamin c costs Rs. 33.\n",
        "# Patient gave you Rs 2000.\n",
        "# Please tell us what is the total cost of each medicine, the total cost of all medicine, and how much money you refunded to the patient.\n",
        "\n",
        "\n",
        "# Program:-\n",
        "# Number of strips for each medicine\n",
        "paracetamol_strips = 2\n",
        "azithromycin_strips = 3\n",
        "vitamin_c_strips = 5\n",
        "\n",
        "# Cost per strip for each medicine\n",
        "paracetamol_cost_per_strip = 35\n",
        "azithromycin_cost_per_strip = 49\n",
        "vitamin_c_cost_per_strip = 33\n",
        "\n",
        "# Total cost for each medicine\n",
        "total_paracetamol_cost = paracetamol_strips * paracetamol_cost_per_strip\n",
        "total_azithromycin_cost = azithromycin_strips * azithromycin_cost_per_strip\n",
        "total_vitamin_c_cost = vitamin_c_strips * vitamin_c_cost_per_strip\n",
        "\n",
        "# Total cost of all medicines\n",
        "total_cost = total_paracetamol_cost + total_azithromycin_cost + total_vitamin_c_cost\n",
        "\n",
        "# Amount given by the patient\n",
        "amount_paid = 2000\n",
        "\n",
        "# Calculate the refund amount\n",
        "refund_amount = amount_paid - total_cost\n",
        "\n",
        "# Display the results\n",
        "print(\"Total cost of Paracetamol: Rs\", total_paracetamol_cost)\n",
        "print(\"Total cost of Azithromycin: Rs\", total_azithromycin_cost)\n",
        "print(\"Total cost of Vitamin C: Rs\", total_vitamin_c_cost)\n",
        "print(\"Total cost of all medicines: Rs\", total_cost)\n",
        "print(\"Amount refunded to the patient: Rs\", refund_amount)"
      ],
      "metadata": {
        "colab": {
          "base_uri": "https://localhost:8080/"
        },
        "id": "fcvPbjb7Tml9",
        "outputId": "bea4238b-f0b4-4ea0-fc06-9a7bcdb16335"
      },
      "execution_count": 30,
      "outputs": [
        {
          "output_type": "stream",
          "name": "stdout",
          "text": [
            "Total cost of Paracetamol: Rs 70\n",
            "Total cost of Azithromycin: Rs 147\n",
            "Total cost of Vitamin C: Rs 165\n",
            "Total cost of all medicines: Rs 382\n",
            "Amount refunded to the patient: Rs 1618\n"
          ]
        }
      ]
    },
    {
      "cell_type": "code",
      "source": [
        "# Q4: Accept a sentence as input and find the number of vowels in it. Assume that the sentence has no punctuation marks.\n",
        "# For example, I am learning python contains 6 vowels. This function should be applicable for all other different sentences.\n",
        "\n",
        "\n",
        "# Program:-\n",
        "def count_vowels(sentence):\n",
        "    # Define a set of vowels\n",
        "    vowels = set(\"aeiouAEIOU\")\n",
        "\n",
        "    # Initialize a variable to store the count of vowels\n",
        "    vowel_count = 0\n",
        "\n",
        "    # Iterate through each character in the sentence\n",
        "    for char in sentence:\n",
        "        # Check if the character is a vowel\n",
        "        if char in vowels:\n",
        "            vowel_count += 1\n",
        "    return vowel_count\n",
        "\n",
        "# Accept a sentence as input from the user\n",
        "user_sentence = input(\"Enter a sentence: \")\n",
        "\n",
        "# Call the function to count vowels and print the result\n",
        "result = count_vowels(user_sentence)\n",
        "print(f\"The number of vowels in the sentence is: {result}\")"
      ],
      "metadata": {
        "colab": {
          "base_uri": "https://localhost:8080/"
        },
        "id": "3ANcf4oYVmHd",
        "outputId": "c4dc2083-440f-4609-bd8f-91d04846e555"
      },
      "execution_count": 31,
      "outputs": [
        {
          "output_type": "stream",
          "name": "stdout",
          "text": [
            "Enter a sentence: I am learning python\n",
            "The number of vowels in the sentence is: 6\n"
          ]
        }
      ]
    },
    {
      "cell_type": "code",
      "source": [
        "# Q5: You have been appointed by the election commission to create a website.\n",
        "# Your first task is to work on a program which tells candidates if they are eligible for voting or not.\n",
        "# If they are eligible, your output should be ‘Congrats! You are eligible’;\n",
        "# otherwise, it should tell that you have to return after X number of years. The eligibility criteria for voting is 18 years.\n",
        "# For example, If someone is 18 or above, your output should be ‘Congrats! You are eligible’.\n",
        "# If someone’s age is 15 years, it should print output as ‘return after 3 years’.\n",
        "\n",
        "\n",
        "# Program:-\n",
        "def check_voting_eligibility(age):\n",
        "    voting_age = 18\n",
        "\n",
        "    if age >= voting_age:\n",
        "        print(\"Congrats! You are eligible.\")\n",
        "    else:\n",
        "        years_to_wait = voting_age - age\n",
        "        print(f\"Return after {years_to_wait} years.\")\n",
        "\n",
        "# Accept the candidate's age as input from the user\n",
        "candidate_age = int(input(\"Enter your age: \"))\n",
        "\n",
        "# Call the function to check eligibility and print the result\n",
        "check_voting_eligibility(candidate_age)"
      ],
      "metadata": {
        "colab": {
          "base_uri": "https://localhost:8080/"
        },
        "id": "miO75qSAXdUa",
        "outputId": "9a0ed82b-b253-46bc-8eb9-ad097413436f"
      },
      "execution_count": 32,
      "outputs": [
        {
          "output_type": "stream",
          "name": "stdout",
          "text": [
            "Enter your age: 7\n",
            "Return after 11 years.\n"
          ]
        }
      ]
    },
    {
      "cell_type": "code",
      "source": [
        "# Q6: Given a list of integers, find the cumulative sum of the elements of the list and store them in another list.\n",
        "# A = [1, 2, 3, 4, 5]\n",
        "# Output:\n",
        "# [1, 3, 6, 10, 15]\n",
        "\n",
        "# Program:-\n",
        "def cumulative_sum(input_list):\n",
        "    # Initialize an empty list to store the cumulative sum\n",
        "    result_list = []\n",
        "    # Initialize a variable to keep track of the running sum\n",
        "    running_sum = 0\n",
        "\n",
        "    # Iterate through each element in the input list\n",
        "    for num in input_list:\n",
        "        # Update the running sum\n",
        "        running_sum += num\n",
        "\n",
        "        # Append the running sum to the result list\n",
        "        result_list.append(running_sum)\n",
        "\n",
        "    return result_list\n",
        "\n",
        "# Given list of integers\n",
        "A = [1, 2, 3, 4, 5]\n",
        "\n",
        "# Call the function to find the cumulative sum\n",
        "output = cumulative_sum(A)\n",
        "\n",
        "# Print the result\n",
        "print(\"Input List:\", A)\n",
        "print(\"Cumulative Sum List:\", output)"
      ],
      "metadata": {
        "colab": {
          "base_uri": "https://localhost:8080/"
        },
        "id": "WjXW7PrhY2fv",
        "outputId": "431b1697-9319-400e-b968-5ab896d41434"
      },
      "execution_count": 33,
      "outputs": [
        {
          "output_type": "stream",
          "name": "stdout",
          "text": [
            "Input List: [1, 2, 3, 4, 5]\n",
            "Cumulative Sum List: [1, 3, 6, 10, 15]\n"
          ]
        }
      ]
    },
    {
      "cell_type": "code",
      "source": [
        "# Q7: WAP to encode a message entered by user as per below conditions:\n",
        "# for every word in the sentence,\n",
        "# 1. If the word starts with a vowel, encode it as the first and last letter of the word.\n",
        "# 2. If the word starts with a consonant, remove all vowels from it. Ensure the case insensitive comparisons/checks are performed.\n",
        "# Please enter your text:The quick brown fox used to sleep inside this box\n",
        "# Encoded Msg: Th qck brwn fx ud t slp ie ths bx\n",
        "\n",
        "# Program:-\n",
        "def encode_message(message):\n",
        "    # Split the message into words\n",
        "    words = message.split()\n",
        "\n",
        "    # Function to check if a character is a vowel\n",
        "    def is_vowel(char):\n",
        "        return char.lower() in {'a', 'e', 'i', 'o', 'u'}\n",
        "\n",
        "    # Initialize an empty list to store encoded words\n",
        "    encoded_words = []\n",
        "\n",
        "    # Process each word in the message\n",
        "    for word in words:\n",
        "        # Check if the word starts with a vowel\n",
        "        if is_vowel(word[0]):\n",
        "            encoded_word = word[0] + word[-1]\n",
        "            # Encode as the first and last letter\n",
        "        else:\n",
        "            # Remove vowels from the word\n",
        "            encoded_word = ''.join(char for char in word if not is_vowel(char))\n",
        "\n",
        "        # Add the encoded word to the list\n",
        "        encoded_words.append(encoded_word)\n",
        "   # Join the encoded words to form the final encoded message\n",
        "    encoded_message = ' '.join(encoded_words)\n",
        "\n",
        "    return encoded_message\n",
        "\n",
        "user_message = input(\"Please enter your text: \")\n",
        "# Call the function to encode the message\n",
        "encoded_message = encode_message(user_message)\n",
        "# Print the encoded message\n",
        "print(\"Encoded Msg:\", encoded_message)"
      ],
      "metadata": {
        "colab": {
          "base_uri": "https://localhost:8080/"
        },
        "id": "n12eS0r1a_oa",
        "outputId": "9d59eb18-9ef1-4a31-841b-225e498d328b"
      },
      "execution_count": 26,
      "outputs": [
        {
          "output_type": "stream",
          "name": "stdout",
          "text": [
            "Please enter your text: The quick brown fox used to sleep inside this box\n",
            "Encoded Msg: Th qck brwn fx ud t slp ie ths bx\n"
          ]
        }
      ]
    },
    {
      "cell_type": "code",
      "source": [
        "# Q8: Write a program to implement run length encoding of a string\n",
        "# RLE:Consecutive repetition of a character has to be replaced with the count of occurrences and the character.\n",
        "# Enter your string :aabbbccdddae\n",
        "# Encoded: 2a3b2c3d1a1e\n",
        "\n",
        "\n",
        "# Program:-\n",
        "def run_length_encoding(s):\n",
        "    # Initialize variables\n",
        "    encoded_string = \"\"\n",
        "    count = 1\n",
        "\n",
        "    # Iterate through the characters of the input string\n",
        "    for i in range(1, len(s)):\n",
        "        if s[i] == s[i - 1]:\n",
        "            # Increment the count if the current character is the same as the previous one\n",
        "            count += 1\n",
        "        else:\n",
        "            # Append the count and character to the encoded string\n",
        "            encoded_string += str(count) + s[i - 1]\n",
        "\n",
        "            # Reset the count for the new character\n",
        "            count = 1\n",
        "\n",
        "    # Append the count and character of the last group to the encoded string\n",
        "    encoded_string += str(count) + s[-1]\n",
        "\n",
        "    return encoded_string\n",
        "\n",
        "# Accept the input string from the user\n",
        "user_string = input(\"Enter your string: \")\n",
        "# Call the function to perform run-length encoding\n",
        "encoded_result = run_length_encoding(user_string)\n",
        "# Print the encoded result\n",
        "print(\"Encoded:\", encoded_result)"
      ],
      "metadata": {
        "colab": {
          "base_uri": "https://localhost:8080/"
        },
        "id": "jdtV40cqdUzG",
        "outputId": "6918c5c5-9f14-444c-f7ab-abe449a0801e"
      },
      "execution_count": 27,
      "outputs": [
        {
          "output_type": "stream",
          "name": "stdout",
          "text": [
            "Enter your string: aabbbccdddae\n",
            "Encoded: 2a3b2c3d1a1e\n"
          ]
        }
      ]
    }
  ]
}